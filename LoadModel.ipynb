{
  "nbformat": 4,
  "nbformat_minor": 0,
  "metadata": {
    "colab": {
      "name": "LoadModel.ipynb",
      "provenance": [],
      "collapsed_sections": []
    },
    "kernelspec": {
      "name": "python3",
      "display_name": "Python 3"
    }
  },
  "cells": [
    {
      "cell_type": "code",
      "metadata": {
        "id": "6szbjQ2QvVqz",
        "colab_type": "code",
        "colab": {}
      },
      "source": [
        "pretrained_model = \"pathtomodel.pt\"\n",
        "use_cuda=True\n",
        "\n",
        "device = torch.device(\"cuda\" if (use_cuda and torch.cuda.is_available()) else \"cpu\")\n",
        "\n",
        "model = Net().to(device)\n",
        "model.load_state_dict(torch.load(pretrained_model, map_location='cpu'))"
      ],
      "execution_count": 0,
      "outputs": []
    }
  ]
}