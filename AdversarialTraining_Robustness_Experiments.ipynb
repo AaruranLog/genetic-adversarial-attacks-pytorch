{
  "nbformat": 4,
  "nbformat_minor": 0,
  "metadata": {
    "colab": {
      "name": "AdversarialTraining - Robustness Experiments.ipynb",
      "provenance": [],
      "collapsed_sections": []
    },
    "kernelspec": {
      "name": "python3",
      "display_name": "Python 3"
    }
  },
  "cells": [
    {
      "cell_type": "code",
      "metadata": {
        "id": "oJAYFJ9Ll8CE",
        "colab_type": "code",
        "colab": {}
      },
      "source": [
        "from __future__ import print_function\n",
        "import argparse\n",
        "import numpy as np\n",
        "import torch\n",
        "import torch.nn as nn\n",
        "import torch.nn.functional as F\n",
        "import torch.optim as optim\n",
        "from torchvision import datasets, transforms\n",
        "from torch.optim.lr_scheduler import StepLR\n",
        "from torch.distributions.categorical import Categorical\n",
        "import matplotlib.pyplot as plt\n",
        "import genattack_class as GA\n",
        "#import efficientnet as EN"
      ],
      "execution_count": 0,
      "outputs": []
    },
    {
      "cell_type": "code",
      "metadata": {
        "id": "B3KcWWMEgE_E",
        "colab_type": "code",
        "outputId": "71960603-5b62-456e-8072-ea4960f86eb1",
        "colab": {
          "base_uri": "https://localhost:8080/",
          "height": 34
        }
      },
      "source": [
        "from google.colab import drive\n",
        "drive.mount('/content/drive')"
      ],
      "execution_count": 2,
      "outputs": [
        {
          "output_type": "stream",
          "text": [
            "Drive already mounted at /content/drive; to attempt to forcibly remount, call drive.mount(\"/content/drive\", force_remount=True).\n"
          ],
          "name": "stdout"
        }
      ]
    },
    {
      "cell_type": "code",
      "metadata": {
        "id": "nXnCOr-rmHxx",
        "colab_type": "code",
        "colab": {}
      },
      "source": [
        "## Neural Network Architecture for MNIST and similar datasets\n",
        "class Net(nn.Module):\n",
        "    def __init__(self):\n",
        "        super(Net, self).__init__()\n",
        "        self.conv1 = nn.Conv2d(1, 32, 3, 1)\n",
        "        self.conv2 = nn.Conv2d(32, 64, 3, 1)\n",
        "        self.dropout1 = nn.Dropout2d(0.25)\n",
        "        self.dropout2 = nn.Dropout2d(0.5)\n",
        "        self.fc1 = nn.Linear(9216, 128)\n",
        "        self.fc2 = nn.Linear(128, 10)\n",
        "\n",
        "    def forward(self, x):\n",
        "        x = self.conv1(x)\n",
        "        x = F.relu(x)\n",
        "        x = self.conv2(x)\n",
        "        x = F.relu(x)\n",
        "        x = F.max_pool2d(x, 2)\n",
        "        x = self.dropout1(x)\n",
        "        x = torch.flatten(x, 1)\n",
        "        x = self.fc1(x)\n",
        "        x = F.relu(x)\n",
        "        x = self.dropout2(x)\n",
        "        x = self.fc2(x)\n",
        "        output = F.log_softmax(x, dim=1)\n",
        "        return output"
      ],
      "execution_count": 0,
      "outputs": []
    },
    {
      "cell_type": "code",
      "metadata": {
        "id": "wLk7uhdIGVum",
        "colab_type": "code",
        "colab": {}
      },
      "source": [
        "## Neural Network Architecture for CIFAR-10\n",
        "class Net2(nn.Module):\n",
        "    def __init__(self):\n",
        "        super(Net2, self).__init__()\n",
        "        self.conv1 = nn.Conv2d(3, 6, 5)\n",
        "        self.pool = nn.MaxPool2d(2, 2)\n",
        "        self.conv2 = nn.Conv2d(6, 16, 5)\n",
        "        self.fc1 = nn.Linear(16 * 5 * 5, 120)\n",
        "        self.fc2 = nn.Linear(120, 84)\n",
        "        self.fc3 = nn.Linear(84, 10)\n",
        "\n",
        "    def forward(self, x):\n",
        "        x = self.pool(F.relu(self.conv1(x)))\n",
        "        x = self.pool(F.relu(self.conv2(x)))\n",
        "        x = x.view(-1, 16 * 5 * 5)\n",
        "        x = F.relu(self.fc1(x))\n",
        "        x = F.relu(self.fc2(x))\n",
        "        x = self.fc3(x)\n",
        "        output = F.log_softmax(x, dim=1)\n",
        "        return output"
      ],
      "execution_count": 0,
      "outputs": []
    },
    {
      "cell_type": "code",
      "metadata": {
        "id": "G3kaokzkmMg5",
        "colab_type": "code",
        "colab": {}
      },
      "source": [
        "def adv_train(model, device, train_loader, optimizer, epoch, epsilon=0.1, alpha=0.5):\n",
        "    log_interval = 120\n",
        "    model.train()\n",
        "    for batch_idx, (data, target) in enumerate(train_loader):\n",
        "        data, target = data.to(device), target.to(device)\n",
        "        #print(data.shape)\n",
        "        data.requires_grad = True\n",
        "        \n",
        "        output = model(data)\n",
        "        loss = F.nll_loss(output, target)\n",
        "        loss.backward(retain_graph=True)\n",
        "\n",
        "        # Generating Adversarial Examples\n",
        "        # Collect gradient of inputs\n",
        "        data_grad = data.grad.data\n",
        "\n",
        "        # FGSM Attack\n",
        "        perturbed_data = fgsm_attack(data, epsilon, data_grad)\n",
        "\n",
        "        # Get loss from perturbed data\n",
        "        adv_output = model(perturbed_data)\n",
        "        adv_loss = F.nll_loss(adv_output, target)\n",
        "\n",
        "        optimizer.zero_grad()\n",
        "\n",
        "        # Calculate total loss\n",
        "        total_loss = alpha*loss + (1-alpha)*adv_loss\n",
        "        total_loss.backward()\n",
        "\n",
        "        optimizer.step()\n",
        "        if batch_idx % log_interval == 0:\n",
        "            print('Train Epoch: {} [{}/{} ({:.0f}%)]\\tLoss: {:.6f}'.format(\n",
        "                epoch, batch_idx * len(data), len(train_loader.dataset),\n",
        "                100. * batch_idx / len(train_loader), loss.item()))"
      ],
      "execution_count": 0,
      "outputs": []
    },
    {
      "cell_type": "code",
      "metadata": {
        "id": "wTOIp3sQzVgH",
        "colab_type": "code",
        "colab": {}
      },
      "source": [
        "def train(model, device, train_loader, optimizer, epoch, epsilon=0.1, alpha=0.5):\n",
        "    log_interval = 120\n",
        "    model.train()\n",
        "    for batch_idx, (data, target) in enumerate(train_loader):\n",
        "        data, target = data.to(device), target.to(device)\n",
        "        optimizer.zero_grad() \n",
        "        output = model(data)\n",
        "        loss = F.nll_loss(output, target)\n",
        "        loss.backward()\n",
        "        optimizer.step()\n",
        "        if batch_idx % log_interval == 0:\n",
        "            print('Train Epoch: {} [{}/{} ({:.0f}%)]\\tLoss: {:.6f}'.format(\n",
        "                epoch, batch_idx * len(data), len(train_loader.dataset),\n",
        "                100. * batch_idx / len(train_loader), loss.item()))"
      ],
      "execution_count": 0,
      "outputs": []
    },
    {
      "cell_type": "code",
      "metadata": {
        "id": "k_OiSAtjwIo2",
        "colab_type": "code",
        "colab": {}
      },
      "source": [
        "def fgsm_attack(image, epsilon, data_grad):\n",
        "    # Collect the element-wise sign of the data gradient\n",
        "    sign_data_grad = data_grad.sign()\n",
        "    # Create the perturbed image by adjusting each pixel of the input image\n",
        "    perturbed_image = image + epsilon*sign_data_grad\n",
        "    # Adding clipping to maintain [0,1] range\n",
        "    perturbed_image = torch.clamp(perturbed_image, 0, 1)\n",
        "    # Return the perturbed image\n",
        "    return perturbed_image"
      ],
      "execution_count": 0,
      "outputs": []
    },
    {
      "cell_type": "code",
      "metadata": {
        "id": "x1lgVsWumWC5",
        "colab_type": "code",
        "colab": {}
      },
      "source": [
        "def test(model, device, test_loader):\n",
        "    model.eval()\n",
        "    test_loss = 0\n",
        "    correct = 0\n",
        "    with torch.no_grad():\n",
        "        for data, target in test_loader:\n",
        "            data, target = data.to(device), target.to(device)\n",
        "            output = model(data)\n",
        "            test_loss += F.nll_loss(output, target, reduction='sum').item()  # sum up batch loss\n",
        "            pred = output.argmax(dim=1, keepdim=True)  # get the index of the max log-probability\n",
        "            correct += pred.eq(target.view_as(pred)).sum().item()\n",
        "\n",
        "    test_loss /= len(test_loader.dataset)\n",
        "\n",
        "    print('\\nTest set: Average loss: {:.4f}, Accuracy: {}/{} ({:.0f}%)\\n'.format(\n",
        "        test_loss, correct, len(test_loader.dataset),\n",
        "        100. * correct / len(test_loader.dataset)))"
      ],
      "execution_count": 0,
      "outputs": []
    },
    {
      "cell_type": "code",
      "metadata": {
        "id": "Pyftls7Q33Vc",
        "colab_type": "code",
        "colab": {}
      },
      "source": [
        "def adv_test(model, device, test_loader, epsilon=0.1):\n",
        "    model.eval()\n",
        "    test_loss = 0\n",
        "    correct = 0\n",
        "    adv_examples = []\n",
        "    for batch_data, batch_target in test_loader:\n",
        "      for i in range(batch_data.shape[0]):\n",
        "        data = batch_data[i].unsqueeze(0)\n",
        "        target = batch_target[i].unsqueeze(0)\n",
        "        data, target = data.to(device), target.to(device)\n",
        "        data.requires_grad = True\n",
        "        \n",
        "        output = model(data)\n",
        "        \n",
        "        init_pred = output.max(1, keepdim=True)[1]\n",
        "        \n",
        "        #print(init_pred)\n",
        "        if init_pred[0].item() != target.item():\n",
        "            continue\n",
        "\n",
        "        loss = F.nll_loss(output, target)\n",
        "        model.zero_grad()\n",
        "\n",
        "        loss.backward()\n",
        "\n",
        "        data_grad = data.grad.data\n",
        "\n",
        "        perturbed_data = fgsm_attack(data, epsilon, data_grad)\n",
        "\n",
        "        output = model(perturbed_data)\n",
        "\n",
        "        final_pred = output.max(1, keepdim=True)[1]\n",
        "        if final_pred.item() == target.item():\n",
        "            correct += 1\n",
        "        else:\n",
        "            if len(adv_examples) < 5:\n",
        "                adv_ex = perturbed_data.squeeze().detach().cpu().numpy()\n",
        "                adv_examples.append((init_pred.item(), final_pred.item(), adv_ex))\n",
        "        \n",
        "    final_acc = correct/float(len(test_loader))\n",
        "\n",
        "    print(\"Epsilon: {}\\tTest Accuracy = {} / {} = {}\\n\".format(epsilon, correct, len(test_loader), final_acc))\n",
        "    return final_acc, adv_examples"
      ],
      "execution_count": 0,
      "outputs": []
    },
    {
      "cell_type": "code",
      "metadata": {
        "id": "JDGc9yBjmY75",
        "colab_type": "code",
        "colab": {}
      },
      "source": [
        "def main():\n",
        "    # Training settings\n",
        "    batch_size = 100\n",
        "    test_batch_size = 1000\n",
        "    lr = 0.1 # learning rate\n",
        "    gamma = 0.7 # learning rate decay\n",
        "    epochs = 20\n",
        "    save_model = True\n",
        "\n",
        "    use_cuda = torch.cuda.is_available()\n",
        "    print(\"CUDA? \" + str(use_cuda))\n",
        "\n",
        "    torch.manual_seed(20294798)\n",
        "\n",
        "    device = torch.device(\"cuda\" if use_cuda else \"cpu\")\n",
        "\n",
        "    kwargs = {'num_workers': 1, 'pin_memory': True} if use_cuda else {}\n",
        "\n",
        "    train_loader = torch.utils.data.DataLoader(\n",
        "        datasets.CIFAR10('../data' ,train=True, download=True,\n",
        "                       transform=transforms.Compose([\n",
        "                           transforms.ToTensor(),\n",
        "                       ])),\n",
        "        batch_size=batch_size, shuffle=True, **kwargs)\n",
        "    \n",
        "    test_loader = torch.utils.data.DataLoader(\n",
        "        datasets.CIFAR10('../data', train=False, transform=transforms.Compose([\n",
        "                           transforms.ToTensor(),\n",
        "                       ])),\n",
        "        batch_size=test_batch_size, shuffle=True, **kwargs)\n",
        "\n",
        "    model = EN.EfficientNetB0().to(device)\n",
        "    model_adv = EN.EfficientNetB0().to(device)\n",
        "\n",
        "    optimizer = optim.SGD(model.parameters(), lr=lr, momentum=0.9)\n",
        "    optimizer_adv = optim.SGD(model_adv.parameters(), lr=lr, momentum=0.9)\n",
        "\n",
        "    #scheduler = StepLR(optimizer, step_size=1, gamma=gamma)\n",
        "    for epoch in range(1, epochs + 1):\n",
        "        print(\"Conventional Model\")\n",
        "        train(model, device, train_loader, optimizer, epoch)\n",
        "        print(\"Adversarially trained Model\")\n",
        "        adv_train(model_adv, device, train_loader, optimizer_adv, epoch, epsilon = 0.1)\n",
        "    print(\"\\nTest on standard model:\")\n",
        "    test(model, device, test_loader)\n",
        "    #print(\"Now with adversarial examples\")\n",
        "    #acc, ex = adv_test(model, device, test_loader, epsilon = 0.1)\n",
        "\n",
        "    print(\"\\nTest on adversarially trained model:\")\n",
        "    test(model_adv, device, test_loader)\n",
        "    #print(\"Now with adversarial examples\")\n",
        "    #adv_acc, adv_ex = adv_test(model_adv, device, test_loader, epsilon = 0.1)\n",
        "\n",
        "        #scheduler.step()\n",
        "\n",
        "    if save_model:\n",
        "        torch.save(model.state_dict(), \"/content/drive/My Drive/NNProj/CIFAR10_EfficientNet.pt\")\n",
        "        torch.save(model_adv.state_dict(), \"/content/drive/My Drive/NNProj/CIFAR10_EfficientNet_adv.pt\")"
      ],
      "execution_count": 0,
      "outputs": []
    },
    {
      "cell_type": "code",
      "metadata": {
        "id": "SQFCMgi9oYSG",
        "colab_type": "code",
        "colab": {}
      },
      "source": [
        "#main()"
      ],
      "execution_count": 0,
      "outputs": []
    },
    {
      "cell_type": "code",
      "metadata": {
        "id": "UcPZhWalbeFt",
        "colab_type": "code",
        "outputId": "48dec31f-2557-42b3-cafb-c8af1f5bc197",
        "colab": {
          "base_uri": "https://localhost:8080/",
          "height": 34
        }
      },
      "source": [
        "use_cuda = torch.cuda.is_available()\n",
        "print(\"CUDA? \" + str(use_cuda))\n",
        "\n",
        "torch.manual_seed(20294798)\n",
        "\n",
        "device = torch.device(\"cuda\" if use_cuda else \"cpu\")\n",
        "\n",
        "kwargs = {'num_workers': 1, 'pin_memory': True} if use_cuda else {}\n",
        "\n",
        "train_loader = torch.utils.data.DataLoader(\n",
        "    datasets.FashionMNIST('../data', train=True, download=True,\n",
        "                    transform=transforms.Compose([\n",
        "                        transforms.ToTensor(),\n",
        "                    ])),\n",
        "    batch_size=100, shuffle=True, **kwargs)\n",
        "\n",
        "test_loader = torch.utils.data.DataLoader(\n",
        "    datasets.FashionMNIST('../data', train=False, download=True, transform=transforms.Compose([\n",
        "                        transforms.ToTensor(),\n",
        "                    ])),\n",
        "    batch_size=1, shuffle=True, **kwargs)"
      ],
      "execution_count": 12,
      "outputs": [
        {
          "output_type": "stream",
          "text": [
            "CUDA? False\n"
          ],
          "name": "stdout"
        }
      ]
    },
    {
      "cell_type": "code",
      "metadata": {
        "id": "XOr25eOKWcoh",
        "colab_type": "code",
        "outputId": "aa6073f5-3b59-4cf8-c109-f2d1d7d7412f",
        "colab": {
          "base_uri": "https://localhost:8080/",
          "height": 151
        }
      },
      "source": [
        "\n",
        "pretrained_model = \"/content/drive/My Drive/NNProj/FashionMNIST.pt\"\n",
        "\n",
        "device = torch.device(\"cuda\" if (use_cuda) else \"cpu\")\n",
        "\n",
        "model = Net().to(device)\n",
        "model.load_state_dict(torch.load(pretrained_model, map_location='cpu'))\n",
        "model.eval()"
      ],
      "execution_count": 13,
      "outputs": [
        {
          "output_type": "execute_result",
          "data": {
            "text/plain": [
              "Net(\n",
              "  (conv1): Conv2d(1, 32, kernel_size=(3, 3), stride=(1, 1))\n",
              "  (conv2): Conv2d(32, 64, kernel_size=(3, 3), stride=(1, 1))\n",
              "  (dropout1): Dropout2d(p=0.25, inplace=False)\n",
              "  (dropout2): Dropout2d(p=0.5, inplace=False)\n",
              "  (fc1): Linear(in_features=9216, out_features=128, bias=True)\n",
              "  (fc2): Linear(in_features=128, out_features=10, bias=True)\n",
              ")"
            ]
          },
          "metadata": {
            "tags": []
          },
          "execution_count": 13
        }
      ]
    },
    {
      "cell_type": "code",
      "metadata": {
        "id": "5zsHct_PVaRc",
        "colab_type": "code",
        "colab": {}
      },
      "source": [
        "#Generate Poputation\n",
        "#pop = gen_attack(10, data, target, 0.1, 0, 0, 0, 0, model, device)\n",
        "## Mutate Population Test\n",
        "#mutpop = mutation_op(pop, data, 1)\n",
        "def load_model(filename=\"fashionmnist_cnn.pt\"):\n",
        "  pretrained_model = \"/content/drive/My Drive/NNProj/\" + filename\n",
        "\n",
        "  device = torch.device(\"cuda\" if (use_cuda) else \"cpu\")\n",
        "\n",
        "  model = Net().to(device)\n",
        "  model.load_state_dict(torch.load(pretrained_model, map_location='cpu'))\n",
        "  return model\n",
        "\n",
        "def analyze_robustness(filename=\"FashionMNIST.pt\",\n",
        "                       test_loader=test_loader):\n",
        "  model = load_model(filename=filename)\n",
        "  model.eval()\n",
        "  total = len(test_loader)\n",
        "  correct = 0\n",
        "  attack_success = 0\n",
        "  i = 0\n",
        "  j = 0\n",
        "  adv_examples_list = torch.zeros([5, 1, 28, 28])\n",
        "  examples_list = torch.zeros([5, 1, 28, 28])\n",
        "  min_gens = []\n",
        "  for data, target in test_loader:\n",
        "      i += 1\n",
        "      data, target = data.to(device), target.to(device)\n",
        "      output = model(data)\n",
        "      pred = output.argmax(dim=1, keepdim=True)\n",
        "      if pred == target:\n",
        "          correct += 1\n",
        "          adv_ex, success, gen_number = GA.gen_attack(10, data, target, 0.2, 0.15, 0.1,\n",
        "                                                      50, 2, model, GA.fitness, device)\n",
        "          min_gens.append(gen_number)\n",
        "          adv_output = model(adv_ex + data)\n",
        "          adv_pred = adv_output.argmax(dim=1, keepdim=True)\n",
        "          if adv_pred != target:\n",
        "              attack_success +=1\n",
        "              if j < 5:\n",
        "                  adv_examples_list[j] = adv_ex\n",
        "                  examples_list[j] = data\n",
        "                  j += 1\n",
        "\n",
        "      if i % 100 == 0:\n",
        "          print(\"Correct: {}/{} , Successful Attacks: {}/{}\".format(correct, i, attack_success, correct))\n",
        "      if i % 1000 == 0:\n",
        "        return min_gens\n"
      ],
      "execution_count": 0,
      "outputs": []
    },
    {
      "cell_type": "code",
      "metadata": {
        "id": "JDF8jUqf-PL4",
        "colab_type": "code",
        "colab": {}
      },
      "source": [
        "mnist_test_loader = torch.utils.data.DataLoader(\n",
        "    datasets.MNIST('../data', train=False, download=True, transform=transforms.Compose([\n",
        "                        transforms.ToTensor(),\n",
        "                    ])),\n",
        "    batch_size=1, shuffle=True, **kwargs)"
      ],
      "execution_count": 0,
      "outputs": []
    },
    {
      "cell_type": "code",
      "metadata": {
        "id": "ILLuMkCohKbl",
        "colab_type": "code",
        "colab": {
          "base_uri": "https://localhost:8080/",
          "height": 353
        },
        "outputId": "170f999a-3ad2-4e82-c573-393c74b82623"
      },
      "source": [
        "min_gens_fashion_mnist = analyze_robustness('FashionMNIST.pt')\n",
        "min_gens_fashion_mnist_adv = analyze_robustness('FashionMNIST_adv.pt')"
      ],
      "execution_count": 55,
      "outputs": [
        {
          "output_type": "stream",
          "text": [
            "Correct: 94/100 , Successful Attacks: 94/94\n",
            "Correct: 189/200 , Successful Attacks: 189/189\n",
            "Correct: 282/300 , Successful Attacks: 282/282\n",
            "Correct: 376/400 , Successful Attacks: 376/376\n",
            "Correct: 466/500 , Successful Attacks: 466/466\n",
            "Correct: 560/600 , Successful Attacks: 560/560\n",
            "Correct: 651/700 , Successful Attacks: 651/651\n",
            "Correct: 737/800 , Successful Attacks: 736/737\n",
            "Correct: 829/900 , Successful Attacks: 828/829\n",
            "Correct: 918/1000 , Successful Attacks: 917/918\n",
            "Correct: 94/100 , Successful Attacks: 40/94\n",
            "Correct: 185/200 , Successful Attacks: 80/185\n",
            "Correct: 276/300 , Successful Attacks: 123/276\n",
            "Correct: 368/400 , Successful Attacks: 168/368\n",
            "Correct: 455/500 , Successful Attacks: 216/455\n",
            "Correct: 548/600 , Successful Attacks: 258/548\n",
            "Correct: 638/700 , Successful Attacks: 305/638\n",
            "Correct: 728/800 , Successful Attacks: 343/728\n",
            "Correct: 821/900 , Successful Attacks: 388/821\n",
            "Correct: 911/1000 , Successful Attacks: 437/911\n"
          ],
          "name": "stdout"
        }
      ]
    },
    {
      "cell_type": "code",
      "metadata": {
        "id": "LnBaV-3rfgbO",
        "colab_type": "code",
        "colab": {
          "base_uri": "https://localhost:8080/",
          "height": 295
        },
        "outputId": "b9a35c51-0e87-47e0-ce37-7d2cb717be3e"
      },
      "source": [
        "bins = np.linspace(0, 49, 49)\n",
        "full_bins = np.linspace(0, 50, 50)\n",
        "plt.hist(min_gens_fashion_mnist, bins, alpha=0.5, label='Conventional')\n",
        "plt.hist(min_gens_fashion_mnist_adv, bins, alpha=0.5, label='Adversarial')\n",
        "plt.xlabel('Minimum Number of Generations')\n",
        "plt.ylabel('Frequency')\n",
        "plt.legend(loc=\"upper center\")\n",
        "plt.title('Generations Needed for a Successful Attack - Fashion MNIST')\n",
        "plt.savefig('fashion-mnist-generations-dist.png')\n",
        "plt.show()"
      ],
      "execution_count": 56,
      "outputs": [
        {
          "output_type": "display_data",
          "data": {
            "image/png": "[encoded data removed]",
            "text/plain": [
              "<Figure size 432x288 with 1 Axes>"
            ]
          },
          "metadata": {
            "tags": [],
            "needs_background": "light"
          }
        }
      ]
    },
    {
      "cell_type": "code",
      "metadata": {
        "id": "SMOUix80AW0F",
        "colab_type": "code",
        "colab": {}
      },
      "source": [
        ""
      ],
      "execution_count": 0,
      "outputs": []
    },
    {
      "cell_type": "code",
      "metadata": {
        "id": "FXUmX19QTXcw",
        "colab_type": "code",
        "colab": {
          "base_uri": "https://localhost:8080/",
          "height": 185
        },
        "outputId": "95f01784-1b5f-4d66-c6fb-d6db51e860d2"
      },
      "source": [
        "min_gens_mnist = analyze_robustness('MNIST.pt', test_loader=mnist_test_loader)"
      ],
      "execution_count": 60,
      "outputs": [
        {
          "output_type": "stream",
          "text": [
            "Correct: 98/100 , Successful Attacks: 90/98\n",
            "Correct: 197/200 , Successful Attacks: 178/197\n",
            "Correct: 296/300 , Successful Attacks: 263/296\n",
            "Correct: 393/400 , Successful Attacks: 350/393\n",
            "Correct: 492/500 , Successful Attacks: 438/492\n",
            "Correct: 591/600 , Successful Attacks: 522/591\n",
            "Correct: 689/700 , Successful Attacks: 610/689\n",
            "Correct: 787/800 , Successful Attacks: 698/787\n",
            "Correct: 885/900 , Successful Attacks: 781/885\n",
            "Correct: 984/1000 , Successful Attacks: 863/984\n"
          ],
          "name": "stdout"
        }
      ]
    },
    {
      "cell_type": "code",
      "metadata": {
        "id": "qbK6xRep2cNJ",
        "colab_type": "code",
        "outputId": "90d2eec4-3509-4c71-cc22-0e12ca494e69",
        "colab": {
          "base_uri": "https://localhost:8080/",
          "height": 185
        }
      },
      "source": [
        "min_gens_mnist_adv = analyze_robustness('MNIST_adv.pt', test_loader=mnist_test_loader)"
      ],
      "execution_count": 62,
      "outputs": [
        {
          "output_type": "stream",
          "text": [
            "Correct: 99/100 , Successful Attacks: 11/99\n",
            "Correct: 199/200 , Successful Attacks: 23/199\n",
            "Correct: 297/300 , Successful Attacks: 32/297\n",
            "Correct: 396/400 , Successful Attacks: 37/396\n",
            "Correct: 494/500 , Successful Attacks: 46/494\n",
            "Correct: 593/600 , Successful Attacks: 53/593\n",
            "Correct: 693/700 , Successful Attacks: 63/693\n",
            "Correct: 791/800 , Successful Attacks: 74/791\n",
            "Correct: 891/900 , Successful Attacks: 79/891\n",
            "Correct: 991/1000 , Successful Attacks: 89/991\n"
          ],
          "name": "stdout"
        }
      ]
    },
    {
      "cell_type": "code",
      "metadata": {
        "id": "5SJI9Fh92k1R",
        "colab_type": "code",
        "colab": {
          "base_uri": "https://localhost:8080/",
          "height": 295
        },
        "outputId": "652bc14e-6d5d-4451-d8dd-16b2c3201a21"
      },
      "source": [
        "plt.hist(min_gens_mnist, bins, alpha=0.5, label='Conventional')\n",
        "plt.hist(min_gens_mnist_adv, bins, alpha=0.5, label='Adversarial')\n",
        "plt.xlabel('Minimum Number of Generations')\n",
        "plt.ylabel('Frequency')\n",
        "plt.legend(loc=\"upper center\")\n",
        "plt.title('Generations Needed for a Successful Attack - MNIST')\n",
        "plt.savefig('mnist-generations-dist.png')\n",
        "plt.show()"
      ],
      "execution_count": 65,
      "outputs": [
        {
          "output_type": "display_data",
          "data": {
            "image/png": "[encoded data removed]",
            "text/plain": [
              "<Figure size 432x288 with 1 Axes>"
            ]
          },
          "metadata": {
            "tags": [],
            "needs_background": "light"
          }
        }
      ]
    },
    {
      "cell_type": "code",
      "metadata": {
        "id": "gOeN3eEB_Si3",
        "colab_type": "code",
        "colab": {}
      },
      "source": [
        ""
      ],
      "execution_count": 0,
      "outputs": []
    }
  ]
}