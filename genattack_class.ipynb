{
  "nbformat": 4,
  "nbformat_minor": 0,
  "metadata": {
    "colab": {
      "name": "genattack-class.ipynb",
      "provenance": [],
      "collapsed_sections": []
    },
    "kernelspec": {
      "name": "python3",
      "display_name": "Python 3"
    }
  },
  "cells": [
    {
      "cell_type": "code",
      "metadata": {
        "id": "NG455G4yeiJf",
        "colab_type": "code",
        "colab": {}
      },
      "source": [
        "# all imports in here\n",
        "import torch\n",
        "import numpy as np\n",
        "import random\n",
        "from scipy.special import softmax"
      ],
      "execution_count": 0,
      "outputs": []
    },
    {
      "cell_type": "code",
      "metadata": {
        "id": "q8zkAn_dggAr",
        "colab_type": "code",
        "colab": {}
      },
      "source": [
        "def gen_attack(N, x_orig, t, delta_max, alpha,rho, tau, G):\n",
        "    # Algo 1 from : https://arxiv.org/pdf/1805.11090.pdf\n",
        "    \"\"\"\n",
        "        N : size of population\n",
        "        x_orig: original example\n",
        "        t: target label\n",
        "        delta_max: maxmimum distance \n",
        "        alpha: mutation range \n",
        "        rho: mutation probability (~ 1% - 3%)\n",
        "        tau: sampling temperature\n",
        "        G: # of generations\n",
        "    \"\"\"\n",
        "    # initialize population\n",
        "    population = []\n",
        "    for i in population:\n",
        "        new_random_member = random_matrix(x_orig.shape())\n",
        "        population.append(new_random_member + x_orig)\n",
        "\n",
        "    for g in range(G):\n",
        "        for i in population:\n",
        "            # compute fitness\n",
        "    pass    \n",
        "\n"
      ],
      "execution_count": 0,
      "outputs": []
    },
    {
      "cell_type": "code",
      "metadata": {
        "id": "X_BWm6qxiYQb",
        "colab_type": "code",
        "outputId": "7f9a3057-e418-4f58-bbdb-f90043e7c018",
        "colab": {
          "base_uri": "https://localhost:8080/",
          "height": 84
        }
      },
      "source": [
        "def mutation_op(cur_pop, idx, step_noise=0.01, p=0.005):\n",
        "    \"\"\"\n",
        "        cur_pop: the current population\n",
        "        idx    : an index. useful for debugging\n",
        "        step_noise: the bound on the noise to construct\n",
        "        p: proportion of elements in the current population to perturb\n",
        "    \"\"\"\n",
        "    perturb_noise = torch.FloatTensor(cur_pop.shape).uniform_(-step_noise, step_noise)\n",
        "    mask = (torch.FloatTensor(cur_pop.shape) < p).double()\n",
        "    mutated_pop = perturb_noise * mask + cur_pop\n",
        "    return mutated_pop\n",
        "\n",
        "x = torch.FloatTensor(2, 2)\n",
        "print(x)\n",
        "print(mutation_op(x, 1, step_noise=0))"
      ],
      "execution_count": 0,
      "outputs": [
        {
          "output_type": "stream",
          "text": [
            "tensor([[1.6351e-35, 0.0000e+00],\n",
            "        [4.4842e-44, 0.0000e+00]])\n",
            "tensor([[1.6351e-35, 0.0000e+00],\n",
            "        [4.4842e-44, 0.0000e+00]], dtype=torch.float64)\n"
          ],
          "name": "stdout"
        }
      ]
    },
    {
      "cell_type": "code",
      "metadata": {
        "id": "hlfFntWZIkh-",
        "colab_type": "code",
        "outputId": "9117b229-f07b-4a21-8d95-4d3a71c92771",
        "colab": {
          "base_uri": "https://localhost:8080/",
          "height": 218
        }
      },
      "source": [
        "y = torch.FloatTensor(10,1).uniform_(0,1)\n",
        "y /= torch.sum(y)\n",
        "print(y)\n",
        "print(y[1])\n",
        "print(y[-1])"
      ],
      "execution_count": 0,
      "outputs": [
        {
          "output_type": "stream",
          "text": [
            "tensor([[0.0489],\n",
            "        [0.1979],\n",
            "        [0.0197],\n",
            "        [0.1468],\n",
            "        [0.0495],\n",
            "        [0.0838],\n",
            "        [0.1296],\n",
            "        [0.1822],\n",
            "        [0.0039],\n",
            "        [0.1378]])\n",
            "tensor([0.1979])\n",
            "tensor([0.1378])\n"
          ],
          "name": "stdout"
        }
      ]
    },
    {
      "cell_type": "code",
      "metadata": {
        "id": "VlQzl-d5ty_e",
        "colab_type": "code",
        "colab": {}
      },
      "source": [
        "def fitness(model, x, target_class):\n",
        "    \"\"\"\n",
        "        model: a pytorch neural network model (takes x to a probability vector)\n",
        "        x:     a single image, or adversarial example\n",
        "        target_class: the class label of x (as an integer)\n",
        "        This source code is inspired by:\n",
        "        https://github.com/nesl/adversarial_genattack/blob/2304cdc2a49d2c16b9f43821ad8a29d664f334d1/genattack_tf2.py#L39\n",
        "    \"\"\"\n",
        "    # TODO: make sure this is compatible with the NN,\n",
        "    #       i.e., is probs indexable? or is it just a class\n",
        "    with torch.no_grad():\n",
        "        probs = model(x)\n",
        "        log_probs = torch.log(probs)\n",
        "        f = 2 * log_probs[target_class] - torch.sum(log_probs)\n",
        "        return f\n",
        "\n",
        "    "
      ],
      "execution_count": 0,
      "outputs": []
    },
    {
      "cell_type": "code",
      "metadata": {
        "id": "u2Uf-CmD7Bsq",
        "colab_type": "code",
        "colab": {}
      },
      "source": [
        "def selection(fitness_fun, population, model, data, target, idx, num_elite = 2, pop_size = 10):\n",
        "  \"\"\"\n",
        "  Input\n",
        "  fitness_fun: the objective function by which we're using to calculate the\n",
        "               the fitness - in this case it's the loss function\n",
        "  population: the population of individuals of which to select the number for\n",
        "              the next generation\n",
        "  model: the PyTorch NN model \n",
        "  data: the input value to find a perturbation for\n",
        "  target: the actual class of the input value\n",
        "  idx: the generation number we're on - for debugging purposes\n",
        "  num_elite: the number of elites to carry on from the previous generations\n",
        "  pop_size: the size of each population\n",
        "  Output\n",
        "  new_pop: Returns the new population of individuals\n",
        "  \"\"\"\n",
        "  #Find fitness for every individual in the population\n",
        "  fitness = []\n",
        "  for ind in population:\n",
        "    #Take original data and add pertubation from GA individual\n",
        "    x = data + ind\n",
        "    data_fit = fitness_fun(model, x, target)\n",
        "    #Append the perturbed data and the fitness value to the list\n",
        "    fitness.append(x, data_fit)\n",
        "\n",
        "  #List of individual and their proportional fitness\n",
        "  tot_fit = sum(x[1] for x in fitness)\n",
        "  prob =  [x[1]/tot_fit for x in fitness]\n",
        "  data_ind = [x[0] for x in fitness]\n",
        "  fit = list(zip(data_ind, prob))\n",
        "  #Sort the list by decreasing order - largest fitness first\n",
        "  fit.sort(key=lambda x: x[1], reverse=True)\n",
        "\n",
        "  #Initialize new population by adding the elites\n",
        "  new_pop = fit[:num_elite]\n",
        "  #Use this line if we only want to add the data, no fitness\n",
        "  new_pop = [x[0] for x in new_pop] \n",
        "\n",
        "  #Create roulette wheel to get parents\n",
        "  a = min(fit)[1] #min bound \n",
        "  b = max(fit)[1] #max bound\n",
        "  i = 0\n",
        "  parents = []\n",
        "\n",
        "  #Need 2*(pop_size - num_elite) parents\n",
        "  #Already n elites, the rest are children and need two parents for one child\n",
        "  while i < 2*(pop_size-num_elite): #Fill parents until it's the desired size\n",
        "    t = (b-a)*np.random.rand(1) + a  #The value to see if the current parent is chosen\n",
        "    j = random.choice(fit) #Picks a random tuple from the list\n",
        "\n",
        "    if j[1] > t: #If fitness is greater than t add to parents - This is what assures that less fit solutions are less likely to be picked\n",
        "      parents.append(j[0]) #Pick parent - only append data (can change if we do want fitness)\n",
        "      i += 1\n",
        "\n",
        "    #Will have duplicates, but an individual can mate more than once\n",
        "  k = 0\n",
        "  child_pop = []\n",
        "  while k < pop_size:\n",
        "    #Get two parents next to each other and get their child\n",
        "    p1 = parents[k]\n",
        "    p2 = parents[k+1]\n",
        "    child_pop.append(crossover(p1, p2))\n",
        "    k += 2\n",
        "    \n",
        "  #Take the new children and mutate them - add mutated children to new_pop\n",
        "  new_pop.extend(mutation_op(child_pop, idx))\n",
        "  \n",
        "  return new_pop\n"
      ],
      "execution_count": 0,
      "outputs": []
    },
    {
      "cell_type": "code",
      "metadata": {
        "id": "AViJ77Qu-Ji7",
        "colab_type": "code",
        "colab": {
          "base_uri": "https://localhost:8080/",
          "height": 34
        },
        "outputId": "c85f2f9f-e73a-4d9c-d60d-8a3dedfd162f"
      },
      "source": [
        "ll = []\n",
        "for i in range(10):\n",
        "  ll.append((i, i*2))\n",
        "print(random.choice(ll))"
      ],
      "execution_count": 3,
      "outputs": [
        {
          "output_type": "stream",
          "text": [
            "(6, 12)\n"
          ],
          "name": "stdout"
        }
      ]
    },
    {
      "cell_type": "code",
      "metadata": {
        "id": "PSU-oZ4YUoP9",
        "colab_type": "code",
        "colab": {}
      },
      "source": [
        "fitness = []\n",
        "for i in range(10):\n",
        "  fitness.append((i, i+2))\n",
        "\n",
        "totfit = sum(x[1] for x in fitness)\n",
        "prob =  [x[1]/totfit for x in fitness]\n",
        "data = [x[0] for x in fitness]\n",
        "fit = list(zip(data, prob))\n",
        "fit.sort(key=lambda x: x[1], reverse=True)\n"
      ],
      "execution_count": 0,
      "outputs": []
    },
    {
      "cell_type": "code",
      "metadata": {
        "id": "hxdFWAMUUeRj",
        "colab_type": "code",
        "colab": {
          "base_uri": "https://localhost:8080/",
          "height": 34
        },
        "outputId": "cbfabfb6-01bc-4bc4-96de-745ecac8d5ac"
      },
      "source": [
        "j = random.choice(fit)\n",
        "print(j)"
      ],
      "execution_count": 49,
      "outputs": [
        {
          "output_type": "stream",
          "text": [
            "(0, 0.03076923076923077)\n"
          ],
          "name": "stdout"
        }
      ]
    },
    {
      "cell_type": "code",
      "metadata": {
        "id": "zz1H23KW60VQ",
        "colab_type": "code",
        "colab": {}
      },
      "source": [
        "def crossover(parent1, parent2):\n",
        "  \"\"\"\n",
        "  Point selection cross-over\n",
        "  From 0-num is parent 1, from num-end is parent 2\n",
        "  Implemented so num can never be 0 or end\n",
        "  input\n",
        "  parent1: individual in old population\n",
        "  parent2: individual in old population\n",
        "  output\n",
        "  child: new individual from mating of parents\n",
        "  \"\"\"\n",
        "  n = len(parent1) - 1\n",
        "  cx = np.random.randint(1, n-1) #choose a random crossover point\n",
        "  child = parent1[:cx]+parent2[cx:]\n",
        "  return child"
      ],
      "execution_count": 0,
      "outputs": []
    },
    {
      "cell_type": "code",
      "metadata": {
        "id": "l_85CkBLj9W4",
        "colab_type": "code",
        "colab": {}
      },
      "source": [
        "#def crossover(parent1, parent2):\n",
        "  #p = Fit(p1)/Fit(p1)+Fit(p2)\n",
        "\n",
        "  # For each element\n",
        "  # randnum = Uniform(0, 1)\n",
        "  # choose element from p1 is randnum >=p\n",
        "  # choose element form p2 otherwise\n",
        "  #return child"
      ],
      "execution_count": 0,
      "outputs": []
    }
  ]
}