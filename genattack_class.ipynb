{
  "nbformat": 4,
  "nbformat_minor": 0,
  "metadata": {
    "colab": {
      "name": "genattack-class.ipynb",
      "provenance": [],
      "collapsed_sections": []
    },
    "kernelspec": {
      "name": "python3",
      "display_name": "Python 3"
    }
  },
  "cells": [
    {
      "cell_type": "code",
      "metadata": {
        "id": "NG455G4yeiJf",
        "colab_type": "code",
        "colab": {}
      },
      "source": [
        "import torch\n",
        "import numpy as np\n",
        "import random\n",
        "from scipy.special import softmax"
      ],
      "execution_count": 0,
      "outputs": []
    },
    {
      "cell_type": "code",
      "metadata": {
        "id": "q8zkAn_dggAr",
        "colab_type": "code",
        "colab": {}
      },
      "source": [
        "def gen_attack(N, x_orig, t, delta_max, alpha, rho, tau, G, model, device):\n",
        "    # Algo 1 from : https://arxiv.org/pdf/1805.11090.pdf\n",
        "    #Convergence - best fitness difference within episolon for n generations \n",
        "    #\n",
        "    \"\"\"\n",
        "        N : size of population\n",
        "        x_orig: original example (batch, channel, x, y), batch = 1\n",
        "        t: target label\n",
        "        delta_max: maxmimum distance \n",
        "        alpha: mutation range \n",
        "        rho: mutation probability (~ 1% - 3%)\n",
        "        tau: sampling temperature\n",
        "        G: # of generations\n",
        "        model: the attacked model\n",
        "        device: hardware the tensors will be stored on\n",
        "    \"\"\"\n",
        "    # initialize population\n",
        "    dims = list(x_orig.size())\n",
        "    dims[0] = N\n",
        "    # population is an (N, 1, 28, 28) in the case of MNIST\n",
        "    population = torch.empty(dims, device=device).uniform_(-delta_max, delta_max)\n",
        "    population = torch.clamp(population + x_orig, 0, 1) - x_orig\n",
        "\n",
        "    # for g in range(G):\n",
        "    #     for i in population:\n",
        "    #         # compute fitness\n",
        "    pass    "
      ],
      "execution_count": 0,
      "outputs": []
    },
    {
      "cell_type": "code",
      "metadata": {
        "id": "X_BWm6qxiYQb",
        "colab_type": "code",
        "colab": {}
      },
      "source": [
        "def mutation_op(cur_pop, x_orig, idx, alpha=0.15, rho=0.1, delta_max=0.1):\n",
        "    \"\"\"\n",
        "        cur_pop: the current population\n",
        "        x_orig :  the image we are using for the attack\n",
        "        idx    : an index. useful for debugging\n",
        "        alpha: mutation range\n",
        "        rho: mutation probability\n",
        "        delta_max: maxmimum distance\n",
        "    \"\"\"\n",
        "    step_noise = alpha * delta_max\n",
        "    perturb_noise = torch.empty_like(cur_pop).uniform_(-step_noise, step_noise)\n",
        "    mask = torch.empty_like(cur_pop).bernoulli_(rho)\n",
        "    mutated_pop = perturb_noise * mask + cur_pop\n",
        "    clamped_mutation_pop = torch.clamp(mutated_pop + x_orig, 0, 1) - x_orig\n",
        "    normalized_pop = torch.clamp(clamped_mutation_pop, -delta_max, delta_max)\n",
        "    return normalized_pop\n",
        "\n",
        "# x = torch.FloatTensor(2, 2)\n",
        "# image = torch.FloatTensor(2, 2).uniform_(0, 1)\n",
        "# print(x, image)\n",
        "# mutpop = mutation_op(x, image, 1)"
      ],
      "execution_count": 0,
      "outputs": []
    },
    {
      "cell_type": "code",
      "metadata": {
        "id": "VlQzl-d5ty_e",
        "colab_type": "code",
        "colab": {}
      },
      "source": [
        "def fitness(model, batch, target_class):\n",
        "    \"\"\"\n",
        "        model: a pytorch neural network model (takes x to log probability)\n",
        "        x:     a single image, or adversarial example\n",
        "        target_class: the class label of x (as an integer)\n",
        "        returns: tensor of fitnesses\n",
        "        This source code is inspired by:\n",
        "        https://github.com/nesl/adversarial_genattack/blob/2304cdc2a49d2c16b9f43821ad8a29d664f334d1/genattack_tf2.py#L39\n",
        "    \"\"\"\n",
        "    model.eval()\n",
        "    with torch.no_grad():\n",
        "        log_probs = model(batch)\n",
        "        s = 1 - torch.exp(log_probs[:, target]) # Sum of probabilities, minus target class\n",
        "        f = log_probs[:, target_class] - torch.log(s)\n",
        "        if batch.size()[0] == 1:\n",
        "            return f.item()\n",
        "        return f.flatten()"
      ],
      "execution_count": 0,
      "outputs": []
    },
    {
      "cell_type": "code",
      "metadata": {
        "id": "u2Uf-CmD7Bsq",
        "colab_type": "code",
        "colab": {}
      },
      "source": [
        "def selection(fitness_fun, population, model, data, target, idx, num_elite = 2, pop_size = 10):\n",
        "  \"\"\"\n",
        "  Input\n",
        "  fitness_fun: the objective function by which we're using to calculate the\n",
        "               the fitness - in this case it's the loss function\n",
        "  population: the population of individuals of which to select the number for\n",
        "              the next generation\n",
        "  model: the PyTorch NN model \n",
        "  data: the input value to find a perturbation for\n",
        "  target: the actual class of the input value\n",
        "  idx: the generation number we're on - for debugging purposes\n",
        "  num_elite: the number of elites to carry on from the previous generations\n",
        "  pop_size: the size of each population\n",
        "  Output\n",
        "  new_pop: Returns the new population of individuals\n",
        "  \"\"\"\n",
        "  #Find fitness for every individual in the population\n",
        "  fitness = []\n",
        "  for ind in population:\n",
        "    #Take original data and add pertubation from GA individual\n",
        "    x = data + ind\n",
        "    data_fit = fitness_fun(model, x, target)\n",
        "    #Append the perturbed data and the fitness value to the list\n",
        "    fitness.append(ind, data_fit)\n",
        "\n",
        "  #List of individual and their proportional fitness\n",
        "  tot_fit = sum(x[1] for x in fitness)\n",
        "  prob =  [x[1]/tot_fit for x in fitness]\n",
        "  data_ind = [x[0] for x in fitness]\n",
        "  fit = list(zip(data_ind, prob))\n",
        "  #Sort the list by decreasing order - largest fitness first\n",
        "  fit.sort(key=lambda x: x[1], reverse=True)\n",
        "\n",
        "  #Initialize new population by adding the elites\n",
        "  new_pop = fit[:num_elite]\n",
        "  #Use this line if we only want to add the data, no fitness\n",
        "  new_pop = [x[0] for x in new_pop] \n",
        "\n",
        "  #Create roulette wheel to get parents\n",
        "  a = min(fit)[1] #min bound \n",
        "  b = max(fit)[1] #max bound\n",
        "  i = 0\n",
        "  parents = []\n",
        "  fit_parent = []\n",
        "\n",
        "  #Need 2*(pop_size - num_elite) parents\n",
        "  #Already n elites, the rest are children and need two parents for one child\n",
        "  while i < 2*(pop_size-num_elite): #Fill parents until it's the desired size\n",
        "    t = (b-a)*np.random.rand(1) + a  #The value to see if the current parent is chosen\n",
        "    j = random.choice(fit) #Picks a random tuple from the list\n",
        "  \n",
        "    if j[1] > t: #If fitness is greater than t add to parents - This is what assures that less fit solutions are less likely to be picked\n",
        "      parents.append(j[0]) #Pick parent - only append data (can change if we do want fitness)\n",
        "      fit_parent.append(j[1]) #Append the appropriate fitness as well to use\n",
        "      i += 1\n",
        "\n",
        "    #Will have duplicates, but an individual can mate more than once\n",
        "  k = 0\n",
        "  child_pop = []\n",
        "  while k < pop_size:\n",
        "    #Get two parents next to each other and their fitness then get their child\n",
        "    p1 = parents[k]\n",
        "    f_p1 = fit_parent[k]\n",
        "    p2 = parents[k+1]\n",
        "    f_p2 = fit_parent[k+1]\n",
        "    child_pop.append(crossover(p1, f_p1, p2, f_p2))\n",
        "    k += 2\n",
        "    \n",
        "  #Take the new children and mutate them - add mutated children to new_pop\n",
        "  new_pop.extend(mutation_op(child_pop, data, idx))\n",
        "  \n",
        "  return new_pop\n"
      ],
      "execution_count": 0,
      "outputs": []
    },
    {
      "cell_type": "code",
      "metadata": {
        "id": "AViJ77Qu-Ji7",
        "colab_type": "code",
        "outputId": "c85f2f9f-e73a-4d9c-d60d-8a3dedfd162f",
        "colab": {
          "base_uri": "https://localhost:8080/",
          "height": 34
        }
      },
      "source": [
        "# ll = []\n",
        "# for i in range(10):\n",
        "#   ll.append((i, i*2))\n",
        "# print(random.choice(ll))"
      ],
      "execution_count": 0,
      "outputs": [
        {
          "output_type": "stream",
          "text": [
            "(6, 12)\n"
          ],
          "name": "stdout"
        }
      ]
    },
    {
      "cell_type": "code",
      "metadata": {
        "id": "PSU-oZ4YUoP9",
        "colab_type": "code",
        "colab": {}
      },
      "source": [
        "# fitness = []\n",
        "# for i in range(10):\n",
        "#   fitness.append((i, i+2))\n",
        "\n",
        "# totfit = sum(x[1] for x in fitness)\n",
        "# prob =  [x[1]/totfit for x in fitness]\n",
        "# data = [x[0] for x in fitness]\n",
        "# fit = list(zip(data, prob))\n",
        "# fit.sort(key=lambda x: x[1], reverse=True)\n"
      ],
      "execution_count": 0,
      "outputs": []
    },
    {
      "cell_type": "code",
      "metadata": {
        "id": "hxdFWAMUUeRj",
        "colab_type": "code",
        "outputId": "cbfabfb6-01bc-4bc4-96de-745ecac8d5ac",
        "colab": {
          "base_uri": "https://localhost:8080/",
          "height": 34
        }
      },
      "source": [
        "# j = random.choice(fit)\n",
        "# print(j)"
      ],
      "execution_count": 0,
      "outputs": [
        {
          "output_type": "stream",
          "text": [
            "(0, 0.03076923076923077)\n"
          ],
          "name": "stdout"
        }
      ]
    },
    {
      "cell_type": "code",
      "metadata": {
        "id": "zz1H23KW60VQ",
        "colab_type": "code",
        "colab": {}
      },
      "source": [
        "# def crossover(parent1, parent2):\n",
        "#   \"\"\"\n",
        "#   Point selection cross-over\n",
        "#   From 0-num is parent 1, from num-end is parent 2\n",
        "#   Implemented so num can never be 0 or end\n",
        "#   input\n",
        "#   parent1: individual in old population\n",
        "#   parent2: individual in old population\n",
        "#   output\n",
        "#   child: new individual from mating of parets\n",
        "#   \"\"\"\n",
        "#   n = len(parent1) - 1\n",
        "#   cx = np.random.randint(1, n-1) #choose a random crossover point\n",
        "#   child = parent1[:cx]+parent2[cx:]\n",
        "#   return child"
      ],
      "execution_count": 0,
      "outputs": []
    },
    {
      "cell_type": "code",
      "metadata": {
        "id": "l_85CkBLj9W4",
        "colab_type": "code",
        "colab": {}
      },
      "source": [
        "def crossover(parent1, parent2, p1, p2):\n",
        "    \"\"\"\n",
        "    Point selection cross-over\n",
        "    From 0-num is parent 1, from num-end is parent 2\n",
        "    Implemented so num can never be 0 or end\n",
        "    input\n",
        "    parent1: individual in old population\n",
        "    parent2: individual in old population\n",
        "    output\n",
        "    child: new individual from mating of parents\n",
        "    \"\"\"\n",
        "    p = p1/(p1 + p2)\n",
        "    mask = torch.empty_like(parent1).bernoulli_(p)\n",
        "    child = mask * parent1 + (1 - mask) * parent2\n",
        "    return child"
      ],
      "execution_count": 0,
      "outputs": []
    },
    {
      "cell_type": "code",
      "metadata": {
        "id": "SMLeJ6KW1UXZ",
        "colab_type": "code",
        "colab": {}
      },
      "source": [
        ""
      ],
      "execution_count": 0,
      "outputs": []
    }
  ]
}